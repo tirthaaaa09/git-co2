{
 "cells": [
  {
   "cell_type": "code",
   "execution_count": 4,
   "metadata": {},
   "outputs": [
    {
     "name": "stdout",
     "output_type": "stream",
     "text": [
      "10  data type :  <class 'int'>\n",
      "10.09  data type :  <class 'float'>\n",
      "siddhi  data type :  <class 'str'>\n",
      "True  data type :  <class 'bool'>\n",
      "None  data type :  <class 'NoneType'>\n"
     ]
    }
   ],
   "source": [
    "# variablename = value \n",
    "a=10\n",
    "print(a,\" data type : \",type(a))\n",
    "a=10.09\n",
    "print(a,\" data type : \",type(a))\n",
    "a=\"siddhi\"\n",
    "print(a,\" data type : \",type(a))\n",
    "a=True\n",
    "print(a,\" data type : \",type(a))\n",
    "a = None\n",
    "print(a,\" data type : \",type(a))\n"
   ]
  },
  {
   "cell_type": "markdown",
   "metadata": {},
   "source": [
    "Indentation\n",
    "If syntax"
   ]
  },
  {
   "cell_type": "code",
   "execution_count": 8,
   "metadata": {},
   "outputs": [
    {
     "name": "stdout",
     "output_type": "stream",
     "text": [
      "b is greater\n",
      "outside if\n"
     ]
    }
   ],
   "source": [
    "# if (condition)\n",
    "# {\n",
    "\n",
    "# }\n",
    "a=10\n",
    "b=20\n",
    "if (a>b) :\n",
    "    print(\"a is greater\")\n",
    "    print(\"if block\")\n",
    "else :\n",
    "    print(\"b is greater\")\n",
    "print(\"outside if\")"
   ]
  },
  {
   "cell_type": "markdown",
   "metadata": {},
   "source": [
    "Arithmetic operators cannot happen in string data type, only '+' can be used to concat multiple string"
   ]
  },
  {
   "cell_type": "code",
   "execution_count": 13,
   "metadata": {},
   "outputs": [
    {
     "name": "stdout",
     "output_type": "stream",
     "text": [
      "siddhi mehta\n"
     ]
    }
   ],
   "source": [
    "a = \"siddhi \"\n",
    "b = \"mehta\"\n",
    "# print(a+b)\n",
    "# print(a*b)\n",
    "# print(a-b)\n",
    "# print(a/b)"
   ]
  },
  {
   "cell_type": "markdown",
   "metadata": {},
   "source": [
    "Two new arithmetic operators\n",
    "Floor division and exponent"
   ]
  },
  {
   "cell_type": "code",
   "execution_count": 18,
   "metadata": {},
   "outputs": [
    {
     "name": "stdout",
     "output_type": "stream",
     "text": [
      "1.0\n",
      "1\n",
      "4\n",
      "8\n",
      "2.0\n"
     ]
    }
   ],
   "source": [
    "# // floor division \n",
    "# ** exponent\n",
    "\n",
    "print(1/1)\n",
    "print(1//1)\n",
    "\n",
    "print(2*2)\n",
    "print(2**3)\n",
    "\n",
    "print(6%3)"
   ]
  },
  {
   "cell_type": "markdown",
   "metadata": {},
   "source": [
    "Assignment operators"
   ]
  },
  {
   "cell_type": "code",
   "execution_count": 21,
   "metadata": {},
   "outputs": [
    {
     "name": "stdout",
     "output_type": "stream",
     "text": [
      "20\n",
      "400\n"
     ]
    }
   ],
   "source": [
    "a=10\n",
    "a+=10 # a=a+10\n",
    "print(a)\n",
    "\n",
    "a**=2\n",
    "print(a)"
   ]
  },
  {
   "cell_type": "markdown",
   "metadata": {},
   "source": [
    "Bitwise Operators used based on bcd"
   ]
  },
  {
   "cell_type": "code",
   "execution_count": 1,
   "metadata": {},
   "outputs": [
    {
     "name": "stdout",
     "output_type": "stream",
     "text": [
      "0\n"
     ]
    }
   ],
   "source": [
    "# a=10\n",
    "\n",
    "# BCD format\n",
    "# 0001 0000 #10 in bcd\n",
    "# 0100 0000 #if 10<<2 i.e., 4 0\n",
    "\n",
    "# Binary format\n",
    "\n",
    "# 8421\n",
    "# 1010 # 10 in binary\n",
    "# 0100 \n",
    "# 1000\n",
    "\n",
    "\n",
    "\n",
    "a=1\n",
    "# 0001\n",
    "# 0100\n",
    "print(a>>2)\n",
    "\n"
   ]
  },
  {
   "cell_type": "markdown",
   "metadata": {},
   "source": [
    "Identity operators"
   ]
  },
  {
   "cell_type": "code",
   "execution_count": null,
   "metadata": {},
   "outputs": [],
   "source": [
    "\n",
    "b=1\n",
    "print(a is not b)\n",
    "\n",
    "print(a is  b)\n",
    "\n"
   ]
  },
  {
   "cell_type": "markdown",
   "metadata": {},
   "source": [
    "Membership operators"
   ]
  },
  {
   "cell_type": "code",
   "execution_count": null,
   "metadata": {},
   "outputs": [],
   "source": [
    "\n",
    "name = \"Siddhi\"\n",
    "\n",
    "print('s' in name )\n",
    "print('s' not in name )"
   ]
  }
 ],
 "metadata": {
  "kernelspec": {
   "display_name": "Python 3",
   "language": "python",
   "name": "python3"
  },
  "language_info": {
   "codemirror_mode": {
    "name": "ipython",
    "version": 3
   },
   "file_extension": ".py",
   "mimetype": "text/x-python",
   "name": "python",
   "nbconvert_exporter": "python",
   "pygments_lexer": "ipython3",
   "version": "3.12.3"
  }
 },
 "nbformat": 4,
 "nbformat_minor": 2
}
